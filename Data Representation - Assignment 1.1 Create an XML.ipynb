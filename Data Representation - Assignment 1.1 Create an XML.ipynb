{
 "cells": [
  {
   "cell_type": "raw",
   "id": "1f8524ca",
   "metadata": {},
   "source": [
    "<?xml version=\"1.0\" encoding=\"UTF-8\"?>\n",
    "<library catalogues>\n",
    "    <technical books>\n",
    "        <book>\n",
    "            <title>army of none</title>\n",
    "            <author>paul scharre</author>\n",
    "            <isbn>9780393608984</isbn>\n",
    "        </book>\n",
    "        <book>\n",
    "            <title>cyber warfare – truth, tactics, and strategies</title>\n",
    "            <author>dr. chase cunningham</author>\n",
    "            <isbn>9781839214486</isbn>\n",
    "        </book>\n",
    "    </technical books>\n",
    "    <cookery books>\n",
    "        <book>\n",
    "            <title>Lean in 15 - The Shift Plan: 15 Minute Meals and Workouts to Keep You Lean and Healthy</title>\n",
    "            <author>Joe Wicks </author>\n",
    "            <isbn>9781509830794</isbn>\n",
    "        </book>\n",
    "        <book>\n",
    "            <title>Jamies 15-Minute Meals</title>\n",
    "            <author>Jamie Oliver</author>\n",
    "            <isbn>9783831022632</isbn>\n",
    "        </book>\n",
    "    </cookery books>\n",
    "</library catalogues>"
   ]
  }
 ],
 "metadata": {
  "kernelspec": {
   "display_name": "Python 3 (ipykernel)",
   "language": "python",
   "name": "python3"
  },
  "language_info": {
   "codemirror_mode": {
    "name": "ipython",
    "version": 3
   },
   "file_extension": ".py",
   "mimetype": "text/x-python",
   "name": "python",
   "nbconvert_exporter": "python",
   "pygments_lexer": "ipython3",
   "version": "3.9.13"
  }
 },
 "nbformat": 4,
 "nbformat_minor": 5
}
